{
  "nbformat": 4,
  "nbformat_minor": 0,
  "metadata": {
    "colab": {
      "name": "Final Projects.ipynb",
      "private_outputs": true,
      "provenance": [],
      "collapsed_sections": [],
      "authorship_tag": "ABX9TyO743AP3mVGuiqcMM04yiY/",
      "include_colab_link": true
    },
    "kernelspec": {
      "name": "python3",
      "display_name": "Python 3"
    }
  },
  "cells": [
    {
      "cell_type": "markdown",
      "metadata": {
        "id": "view-in-github",
        "colab_type": "text"
      },
      "source": [
        "<a href=\"https://colab.research.google.com/github/nic-instruction/IT-211/blob/main/Final_Projects.ipynb\" target=\"_parent\"><img src=\"https://colab.research.google.com/assets/colab-badge.svg\" alt=\"Open In Colab\"/></a>"
      ]
    },
    {
      "cell_type": "markdown",
      "metadata": {
        "id": "PgJfz7FwIeoY"
      },
      "source": [
        "**3074:** https://github.com/YU-java-211/Year-Up-Java-Winter-2021-Final-Project-Card-Game\n",
        "\n",
        "**3079:** https://github.com/YU-java-211/Year-Up-Winter-2021-Final-Project-Snake-Mod\n",
        "\n",
        "\n",
        "# GitHub Etiquete\n",
        "\n",
        "* You should all have recived an invite via GitHub to a 3074 or 3097 group with permissions to your class's repository.\n",
        "\n",
        "* You will notice that none of you can edit 'main' all of you will be editing a branch of this repository.\n",
        "\n",
        "* Name your branch after your name (and your partner's name if you're working with a partner, and the name of the class you are creating)\n",
        "\n",
        "* Don't update anyone else's code in any way and make sure you have a current working copy of the code: https://docs.github.com/en/desktop/contributing-and-collaborating-using-github-desktop/syncing-your-branch\n",
        "\n",
        "* I'll be asked to approve any pull requests when you want to push to main, so feel free to bug me.\n",
        "\n",
        "* Please don't push to main without working JUnit tests for your class.\n",
        "\n",
        "\n",
        "* All source files should be placed under `src/main/java`, and all JUnit tests should be placed under `src/test/java`."
      ]
    }
  ]
}